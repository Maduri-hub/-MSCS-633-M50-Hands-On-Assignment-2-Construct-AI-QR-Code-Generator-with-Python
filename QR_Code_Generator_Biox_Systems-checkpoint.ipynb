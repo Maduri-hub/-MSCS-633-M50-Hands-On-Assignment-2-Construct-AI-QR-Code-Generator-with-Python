{
 "cells": [
  {
   "cell_type": "markdown",
   "id": "55d8d271-f6c9-4f16-9ae3-77e6db4f2518",
   "metadata": {},
   "source": [
    "# QR Code Generator — Biox Systems\n",
    "\n",
    "This Jupyter notebook generates a QR code image from a URL."
   ]
  },
  {
   "cell_type": "code",
   "execution_count": 1,
   "id": "47cc8831-7530-446a-8a06-6f428d0b564f",
   "metadata": {},
   "outputs": [
    {
     "name": "stdout",
     "output_type": "stream",
     "text": [
      "Collecting qrcode[pil]\n",
      "  Using cached qrcode-8.2-py3-none-any.whl.metadata (17 kB)\n",
      "Requirement already satisfied: colorama in c:\\users\\cat\\anaconda3\\lib\\site-packages (from qrcode[pil]) (0.4.6)\n",
      "Requirement already satisfied: pillow>=9.1.0 in c:\\users\\cat\\anaconda3\\lib\\site-packages (from qrcode[pil]) (10.4.0)\n",
      "Using cached qrcode-8.2-py3-none-any.whl (45 kB)\n",
      "Installing collected packages: qrcode\n",
      "Successfully installed qrcode-8.2\n"
     ]
    }
   ],
   "source": [
    "# Install dependencies\n",
    "!pip install qrcode[pil]"
   ]
  },
  {
   "cell_type": "code",
   "execution_count": 2,
   "id": "90576ddb-2a02-4936-9af8-54db1251e218",
   "metadata": {},
   "outputs": [],
   "source": [
    "# Imports\n",
    "import qrcode\n",
    "from qrcode.constants import ERROR_CORRECT_M\n",
    "from PIL import Image\n",
    "from IPython.display import display\n",
    "import os"
   ]
  },
  {
   "cell_type": "code",
   "execution_count": 5,
   "id": "38bc0aef-6880-40ce-a455-bd01075b3ca8",
   "metadata": {},
   "outputs": [],
   "source": [
    "# Reusable function to generate QR codes\n",
    "def generate_qr(url: str,\n",
    "                filename: str = \"qrcode.png\",\n",
    "                error_correction=ERROR_CORRECT_M,\n",
    "                box_size: int = 10,\n",
    "                border: int = 4,\n",
    "                fill_color: str = \"black\",\n",
    "                back_color: str = \"white\",\n",
    "                make_dir: bool = True) -> str:\n",
    "    \"\"\"\n",
    "    Generate a QR code PNG from a URL and save it to `filename`.\n",
    "    \n",
    "    \"\"\"\n",
    "    if not isinstance(url, str) or url.strip() == \"\":\n",
    "        raise ValueError(\"URL/text must be a non-empty string\")\n",
    "    \n",
    "    # Ensure directory exists\n",
    "    out_dir = os.path.dirname(filename)\n",
    "    if out_dir and not os.path.exists(out_dir) and make_dir:\n",
    "        os.makedirs(out_dir, exist_ok=True)\n",
    "    \n",
    "    qr = qrcode.QRCode(\n",
    "        version=None, # automatic size\n",
    "        error_correction=error_correction,\n",
    "        box_size=box_size,\n",
    "        border=border,\n",
    "    )\n",
    "    qr.add_data(url)\n",
    "    qr.make(fit=True)\n",
    "    \n",
    "    img = qr.make_image(fill_color=fill_color, back_color=back_color)\n",
    "    \n",
    "    img.save(filename)\n",
    "    return filename"
   ]
  },
  {
   "cell_type": "code",
   "execution_count": 6,
   "id": "e5a61738-26e1-4bd4-af96-6f3824b90368",
   "metadata": {},
   "outputs": [],
   "source": [
    "# Utility to display the saved QR in the notebook\n",
    "def show_image(path: str):\n",
    "    if not os.path.exists(path):\n",
    "        raise FileNotFoundError(f\"File not found: {path}\")\n",
    "    img = Image.open(path)\n",
    "    display(img)"
   ]
  },
  {
   "cell_type": "code",
   "execution_count": 7,
   "id": "e9d22ade-939d-4c17-815f-809a32012d72",
   "metadata": {},
   "outputs": [
    {
     "name": "stdout",
     "output_type": "stream",
     "text": [
      "Saved QR code to: output/biox_qr.png\n"
     ]
    }
   ],
   "source": [
    "# Example usage\n",
    "if __name__ == \"__main__\":\n",
    "    sample_url = \"https://www.bioxsystems.com/\"\n",
    "    output_path = \"output/biox_qr.png\"\n",
    "    saved = generate_qr(sample_url, filename=output_path, box_size=8, border=4)\n",
    "    print(f\"Saved QR code to: {saved}\")"
   ]
  },
  {
   "cell_type": "code",
   "execution_count": 8,
   "id": "bc59c6ff-c290-4706-9f54-ee415c6f4adb",
   "metadata": {},
   "outputs": [
    {
     "name": "stdin",
     "output_type": "stream",
     "text": [
      "Enter the URL or text to encode as a QR code:  https://www.bioxsystems.com/\n"
     ]
    },
    {
     "name": "stdout",
     "output_type": "stream",
     "text": [
      "QR saved to: generated_qr.png\n"
     ]
    },
    {
     "data": {
      "image/jpeg": "[encoded data removed]",
      "image/png": "[encoded data removed]",
      "text/plain": [
       "<PIL.PngImagePlugin.PngImageFile image mode=1 size=370x370>"
      ]
     },
     "metadata": {},
     "output_type": "display_data"
    }
   ],
   "source": [
    "# Interactive example\n",
    "user_url = input(\"Enter the URL or text to encode as a QR code: \").strip()\n",
    "if user_url:\n",
    "    out = generate_qr(user_url, filename=\"generated_qr.png\")\n",
    "    print(\"QR saved to:\", out)\n",
    "    show_image(out)\n",
    "else:\n",
    "    print(\"No URL provided. Aborting.\")"
   ]
  }
 ],
 "metadata": {
  "kernelspec": {
   "display_name": "Python 3 (ipykernel)",
   "language": "python",
   "name": "python3"
  },
  "language_info": {
   "codemirror_mode": {
    "name": "ipython",
    "version": 3
   },
   "file_extension": ".py",
   "mimetype": "text/x-python",
   "name": "python",
   "nbconvert_exporter": "python",
   "pygments_lexer": "ipython3",
   "version": "3.12.4"
  }
 },
 "nbformat": 4,
 "nbformat_minor": 5
}
